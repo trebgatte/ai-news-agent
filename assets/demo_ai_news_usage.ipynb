{
 "cells": [
  {
   "cell_type": "markdown",
   "id": "af3e6765",
   "metadata": {},
   "source": [
    "# AI News Agent Usage Notebook\n",
    "This notebook demonstrates how to configure and invoke the **AI News** agent locally, including both live and sample-data modes."
   ]
  },
  {
   "cell_type": "markdown",
   "id": "3f9332f4",
   "metadata": {},
   "source": [
    "## 1. Install dependencies\n",
    "Ensure you have the required packages installed:"
   ]
  },
  {
   "cell_type": "code",
   "execution_count": null,
   "id": "e2677564",
   "metadata": {},
   "outputs": [],
   "source": [
    "!pip install azure-ai-projects azure-core python-dateutil"
   ]
  },
  {
   "cell_type": "markdown",
   "id": "25bc9ee9",
   "metadata": {},
   "source": [
    "## 2. Set Environment Variables\n",
    "Configure your Azure endpoint and keys (replace placeholders):"
   ]
  },
  {
   "cell_type": "code",
   "execution_count": null,
   "id": "4f68a781",
   "metadata": {},
   "outputs": [],
   "source": [
    "import os\n",
    "os.environ[\"AZURE_OPENAI_ENDPOINT\"] = \"https://<your-endpoint>.openai.azure.com/\"\n",
    "os.environ[\"AZURE_OPENAI_KEY\"] = \"<your-openai-key>\"\n",
    "os.environ[\"BING_SEARCH_ENDPOINT\"] = \"<your-bing-endpoint>\"\n",
    "os.environ[\"BING_SEARCH_KEY\"] = \"<your-bing-key>\"\n",
    "print(\"Environment variables set.\")"
   ]
  },
  {
   "cell_type": "markdown",
   "id": "d8ec1898",
   "metadata": {},
   "source": [
    "## 3. Create `system_prompt.txt`\n",
    "Ensure you have `system_prompt.txt` in the working folder with the agent instructions."
   ]
  },
  {
   "cell_type": "markdown",
   "id": "024496a7",
   "metadata": {},
   "source": [
    "## 4. Agent Invocation (Live Mode)\n",
    "This will perform a live query against Bing Grounding and summarize results:"
   ]
  },
  {
   "cell_type": "code",
   "execution_count": null,
   "id": "eb6a85d4",
   "metadata": {},
   "outputs": [],
   "source": [
    "from template import main\n",
    "# Invoke the agent; output will be printed as Markdown table\n",
    "main()"
   ]
  },
  {
   "cell_type": "markdown",
   "id": "9ae0a46a",
   "metadata": {},
   "source": [
    "## 5. Agent Invocation (Sample Data)\n",
    "To test without hitting the live Bing API, place example JSON in `sample_data/example_bing_response.json` and set `USE_SAMPLE=true`:"
   ]
  },
  {
   "cell_type": "code",
   "execution_count": null,
   "id": "43e33c0e",
   "metadata": {},
   "outputs": [],
   "source": [
    "import os\n",
    "os.environ[\"USE_SAMPLE\"] = \"true\"\n",
    "from template import main\n",
    "main()"
   ]
  },
  {
   "cell_type": "markdown",
   "id": "f4bbdd63",
   "metadata": {},
   "source": [
    "## 6. Parsing Output\n",
    "You can capture the output and render it in a pandas DataFrame if desired:"
   ]
  },
  {
   "cell_type": "code",
   "execution_count": null,
   "id": "255c267d",
   "metadata": {},
   "outputs": [],
   "source": [
    "import subprocess\n",
    "import pandas as pd\n",
    "# Capture the agent output\n",
    "result = subprocess.run([\"python\", \"template.py\"], capture_output=True, text=True)\n",
    "print(result.stdout)\n",
    "# Example: parse Markdown table (left as exercise)"
   ]
  }
 ],
 "metadata": {},
 "nbformat": 4,
 "nbformat_minor": 5
}
