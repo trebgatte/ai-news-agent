{
 "cells": [
  {
   "cell_type": "markdown",
   "id": "f4ddc4ca",
   "metadata": {},
   "source": [
    "# AI News Agent\n",
    "This notebook demonstrates how to use the AI News Agent to retrieve and summarize relevant AI developments using SerpAPI."
   ]
  },
  {
   "cell_type": "code",
   "execution_count": null,
   "id": "87a3aa2a",
   "metadata": {},
   "outputs": [],
   "source": [
    "!pip install azure-ai-projects~=1.0.0b7"
   ]
  },
  {
   "cell_type": "code",
   "execution_count": null,
   "id": "4f76ece3",
   "metadata": {},
   "outputs": [],
   "source": [
    "from azure.ai.projects import AIProjectClient\n",
    "from azure.identity import DefaultAzureCredential\n",
    "\n",
    "project_client = AIProjectClient.from_connection_string(\n",
    "    credential=DefaultAzureCredential(),\n",
    "    conn_str=\"westus3.api.azureml.ms;090712f9-4dd1-45a4-ab42-dd7764972f36;rg-ai-news;ai-news\")"
   ]
  },
  {
   "cell_type": "code",
   "execution_count": null,
   "id": "eb64605d",
   "metadata": {},
   "outputs": [],
   "source": [
    "agent = project_client.agents.get_agent(\"asst_wrVG4o6McT1HPUnjV6pNFvfk\")\n",
    "thread = project_client.agents.get_thread(\"thread_okJRvnSg7GeTf13zKVm6ZQLF\")"
   ]
  },
  {
   "cell_type": "code",
   "execution_count": null,
   "id": "612a8c14",
   "metadata": {},
   "outputs": [],
   "source": [
    "message = project_client.agents.create_message(\n",
    "    thread_id=thread.id,\n",
    "    role=\"user\",\n",
    "    content=\"What's new in AI in the last 24 hours?\"\n",
    ")\n",
    "\n",
    "run = project_client.agents.create_and_process_run(\n",
    "    thread_id=thread.id,\n",
    "    agent_id=agent.id)"
   ]
  },
  {
   "cell_type": "code",
   "execution_count": null,
   "id": "609b3b89",
   "metadata": {},
   "outputs": [],
   "source": [
    "messages = project_client.agents.list_messages(thread_id=thread.id)\n",
    "for text_message in messages.text_messages:\n",
    "    print(text_message.as_dict())"
   ]
  }
 ],
 "metadata": {},
 "nbformat": 4,
 "nbformat_minor": 5
}
